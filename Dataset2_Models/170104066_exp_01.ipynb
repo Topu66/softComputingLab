{
  "nbformat": 4,
  "nbformat_minor": 0,
  "metadata": {
    "colab": {
      "name": "170104066_exp_01_.ipynb",
      "provenance": [],
      "collapsed_sections": []
    },
    "kernelspec": {
      "name": "python3",
      "display_name": "Python 3"
    },
    "language_info": {
      "name": "python"
    },
    "accelerator": "GPU"
  },
  "cells": [
    {
      "cell_type": "code",
      "metadata": {
        "id": "4UMKTgRoeqfW"
      },
      "source": [
        "import numpy as np\n",
        "import pandas as pd\n",
        "import torch\n",
        "import torch.nn as nn\n",
        "import torch.nn.functional as F\n",
        "import torch.optim as optim\n",
        "from torch.utils.data import Dataset\n",
        "from torch.utils.data.sampler import SubsetRandomSampler\n",
        "import matplotlib\n",
        "import matplotlib.pyplot as plt\n",
        "from PIL import Image\n",
        "from torchvision import datasets, transforms, models\n",
        "from torch.autograd import Variable\n",
        "from zipfile import ZipFile\n",
        "import os\n",
        "from os import path\n",
        "import shutil"
      ],
      "execution_count": null,
      "outputs": []
    },
    {
      "cell_type": "code",
      "metadata": {
        "colab": {
          "base_uri": "https://localhost:8080/"
        },
        "id": "fC445TxmnJ6g",
        "outputId": "141a9279-dfb6-4b51-97fd-13622ffb7cbe"
      },
      "source": [
        "from google.colab import drive\n",
        "drive.mount('/content/drive')"
      ],
      "execution_count": null,
      "outputs": [
        {
          "output_type": "stream",
          "name": "stdout",
          "text": [
            "Mounted at /content/drive\n"
          ]
        }
      ]
    },
    {
      "cell_type": "code",
      "metadata": {
        "id": "RManlEUee0_s"
      },
      "source": [
        "url = '/content/drive/MyDrive/SoftCom_Lab/Assignment_2/'"
      ],
      "execution_count": null,
      "outputs": []
    },
    {
      "cell_type": "code",
      "metadata": {
        "id": "HC1Mh0lIGogh"
      },
      "source": [
        "dataset_A = url + 'dataset_2_image.zip'\n",
        "with ZipFile(dataset_A, 'r') as zip:\n",
        "  zip.extractall()"
      ],
      "execution_count": null,
      "outputs": []
    },
    {
      "cell_type": "code",
      "metadata": {
        "id": "xy-Cey0sf9Fz",
        "colab": {
          "base_uri": "https://localhost:8080/",
          "height": 204
        },
        "outputId": "dbb77b8c-dfa6-4aa0-a2de-3b005e20abc6"
      },
      "source": [
        "PATH = '/content/'\n",
        "train_data_labels = pd.read_csv('/content/csv/updatetrain.csv', usecols = ['filename', 'digit'])\n",
        "test_data_labels = pd.read_csv('/content/csv/updatetest.csv', usecols = ['filename', 'digit'])\n",
        "train_data_labels.head()\n"
      ],
      "execution_count": null,
      "outputs": [
        {
          "output_type": "execute_result",
          "data": {
            "text/html": [
              "<div>\n",
              "<style scoped>\n",
              "    .dataframe tbody tr th:only-of-type {\n",
              "        vertical-align: middle;\n",
              "    }\n",
              "\n",
              "    .dataframe tbody tr th {\n",
              "        vertical-align: top;\n",
              "    }\n",
              "\n",
              "    .dataframe thead th {\n",
              "        text-align: right;\n",
              "    }\n",
              "</style>\n",
              "<table border=\"1\" class=\"dataframe\">\n",
              "  <thead>\n",
              "    <tr style=\"text-align: right;\">\n",
              "      <th></th>\n",
              "      <th>filename</th>\n",
              "      <th>digit</th>\n",
              "    </tr>\n",
              "  </thead>\n",
              "  <tbody>\n",
              "    <tr>\n",
              "      <th>0</th>\n",
              "      <td>0.jpg</td>\n",
              "      <td>9</td>\n",
              "    </tr>\n",
              "    <tr>\n",
              "      <th>1</th>\n",
              "      <td>1.jpg</td>\n",
              "      <td>0</td>\n",
              "    </tr>\n",
              "    <tr>\n",
              "      <th>2</th>\n",
              "      <td>2.jpg</td>\n",
              "      <td>0</td>\n",
              "    </tr>\n",
              "    <tr>\n",
              "      <th>3</th>\n",
              "      <td>3.jpg</td>\n",
              "      <td>3</td>\n",
              "    </tr>\n",
              "    <tr>\n",
              "      <th>4</th>\n",
              "      <td>4.jpg</td>\n",
              "      <td>0</td>\n",
              "    </tr>\n",
              "  </tbody>\n",
              "</table>\n",
              "</div>"
            ],
            "text/plain": [
              "  filename  digit\n",
              "0    0.jpg      9\n",
              "1    1.jpg      0\n",
              "2    2.jpg      0\n",
              "3    3.jpg      3\n",
              "4    4.jpg      0"
            ]
          },
          "metadata": {},
          "execution_count": 5
        }
      ]
    },
    {
      "cell_type": "code",
      "metadata": {
        "id": "zmE05jA4kTDU"
      },
      "source": [
        "class Dataset(Dataset):\n",
        "    def __init__(self, df, root, transform=None):\n",
        "        self.data = df\n",
        "        self.root = root\n",
        "        self.transform = transform\n",
        "        \n",
        "    def __len__(self):\n",
        "        return len(self.data)\n",
        "    \n",
        "    def __getitem__(self, index):\n",
        "        item = self.data.iloc[index]\n",
        "        \n",
        "        path = self.root + \"/\" + item[0]\n",
        "        image = Image.open(path).convert('L')\n",
        "        label = item[1]\n",
        "        \n",
        "        if self.transform is not None:\n",
        "            image = self.transform(image)\n",
        "            \n",
        "        return image, label"
      ],
      "execution_count": null,
      "outputs": []
    },
    {
      "cell_type": "code",
      "metadata": {
        "id": "adaZ60Uik-eb",
        "colab": {
          "base_uri": "https://localhost:8080/"
        },
        "outputId": "1dc4b8ec-9804-4f10-c204-1e3055c21aac"
      },
      "source": [
        "mean = [0.5,]\n",
        "std = [0.5, ]\n",
        "\n",
        "train_transform = transforms.Compose([\n",
        "    transforms.Resize(28),\n",
        "    transforms.ToTensor(),\n",
        "    transforms.Normalize(mean, std)\n",
        "])\n",
        "\n",
        "test_transform = transforms.Compose([\n",
        "        transforms.Resize(28),\n",
        "        transforms.ToTensor(),\n",
        "        transforms.Normalize(mean, std)\n",
        "])\n",
        "\n",
        "train_data  = Dataset(train_data_labels, '/content/train', train_transform)\n",
        "test_data = Dataset(test_data_labels, '/content/test_28', test_transform)\n",
        "\n",
        "print(\"Trainig Samples: \", len(train_data))"
      ],
      "execution_count": null,
      "outputs": [
        {
          "output_type": "stream",
          "name": "stdout",
          "text": [
            "Trainig Samples:  60000\n"
          ]
        }
      ]
    },
    {
      "cell_type": "markdown",
      "metadata": {
        "id": "8htM9w2LmUVl"
      },
      "source": [
        "# **Base Parameters**"
      ]
    },
    {
      "cell_type": "code",
      "metadata": {
        "id": "IGG3l4vrmkI3",
        "colab": {
          "base_uri": "https://localhost:8080/"
        },
        "outputId": "fb47fe06-b856-4817-f8df-593c85d9aec1"
      },
      "source": [
        "batch_size = 20\n",
        "num_iters = 20000\n",
        "input_dim = 28*28\n",
        "num_hidden = 200\n",
        "output_dim = 10\n",
        "\n",
        "learning_rate = 0.01\n",
        "\n",
        "num_epochs = num_iters / (len(train_data) / batch_size)\n",
        "num_epochs = int(num_epochs)\n",
        "print(num_epochs)\n",
        "\n",
        "device = torch.device(\"cuda:0\" if torch.cuda.is_available() else \"cpu\")"
      ],
      "execution_count": null,
      "outputs": [
        {
          "output_type": "stream",
          "name": "stdout",
          "text": [
            "6\n"
          ]
        }
      ]
    },
    {
      "cell_type": "code",
      "metadata": {
        "id": "lsSesapsltZF",
        "colab": {
          "base_uri": "https://localhost:8080/"
        },
        "outputId": "b41b386f-71bc-4312-b19b-e470b8759cba"
      },
      "source": [
        "test_size = 0.2\n",
        "num_train = len(train_data)\n",
        "indices = list(range(num_train))\n",
        "np.random.shuffle(indices)\n",
        "split = int(np.floor(test_size * num_train))\n",
        "train_idx, test_idx = indices[split:], indices[:split]\n",
        "\n",
        "train_sampler = SubsetRandomSampler(train_idx)\n",
        "test_sampler = SubsetRandomSampler(test_idx)\n",
        "\n",
        "train_loader = torch.utils.data.DataLoader(\n",
        "    train_data, batch_size=batch_size,\n",
        "    sampler=train_sampler)\n",
        "\n",
        "test_loader = torch.utils.data.DataLoader(\n",
        "    train_data, batch_size=batch_size,\n",
        "    sampler=test_sampler)\n",
        "\n",
        "print(\"Train dataloader:{}\".format(len(train_loader)))\n",
        "print(\"Test dataloader:{}\".format(len(test_loader)))"
      ],
      "execution_count": null,
      "outputs": [
        {
          "output_type": "stream",
          "name": "stdout",
          "text": [
            "Train dataloader:2400\n",
            "Test dataloader:600\n"
          ]
        }
      ]
    },
    {
      "cell_type": "code",
      "metadata": {
        "id": "6jCcU8giniGS"
      },
      "source": [
        "class DeepNeuralNetworkModel(nn.Module):\n",
        "    def __init__(self, input_size, num_classes, num_hidden):\n",
        "        super().__init__()\n",
        "       \n",
        "        self.linear_1 = nn.Linear(input_size, num_hidden)\n",
        "        self.softmax_1 = nn.Softmax(dim=0)\n",
        " \n",
        "        self.linear_2 = nn.Linear(num_hidden, num_hidden)\n",
        "        self.softmax_2 = nn.Softmax(dim=0)\n",
        " \n",
        "        self.linear_3 = nn.Linear(num_hidden, num_hidden)\n",
        "        self.softmax_3 = nn.Softmax(dim=0)\n",
        " \n",
        "        self.linear_4 = nn.Linear(num_hidden, num_hidden)\n",
        "        self.softmax_4 = nn.Softmax(dim=0)\n",
        " \n",
        "        self.linear_5= nn.Linear(num_hidden, num_hidden)\n",
        "        self.softmax_5 = nn.Softmax(dim=0)\n",
        " \n",
        "        self.linear_6 = nn.Linear(num_hidden, num_hidden)\n",
        "        self.softmax_6 = nn.Softmax(dim=0)\n",
        " \n",
        "        self.linear_out = nn.Linear(num_hidden, num_classes)\n",
        " \n",
        "    def forward(self, x):\n",
        "        out  = self.linear_1(x)\n",
        "        out = self.softmax_1(out)\n",
        "        \n",
        "        out  = self.linear_2(out)\n",
        "        out = self.softmax_2(out)\n",
        " \n",
        "        out  = self.linear_3(out)\n",
        "        out = self.softmax_3(out)\n",
        " \n",
        "        out  = self.linear_4(out)\n",
        "        out = self.softmax_4(out)\n",
        " \n",
        "        out  = self.linear_5(out)\n",
        "        out = self.softmax_5(out)\n",
        " \n",
        "        out  = self.linear_6(out)\n",
        "        out = self.softmax_6(out)\n",
        "        \n",
        "        probas  = self.linear_out(out)\n",
        "        return probas"
      ],
      "execution_count": null,
      "outputs": []
    },
    {
      "cell_type": "code",
      "metadata": {
        "id": "Q23HotHio42L",
        "colab": {
          "base_uri": "https://localhost:8080/"
        },
        "outputId": "522f7579-3889-4a4b-ba9c-46f3a57883ef"
      },
      "source": [
        "model = DeepNeuralNetworkModel(input_size = input_dim, num_classes = output_dim, num_hidden = num_hidden)\n",
        "\n",
        "model.to(device)"
      ],
      "execution_count": null,
      "outputs": [
        {
          "output_type": "execute_result",
          "data": {
            "text/plain": [
              "DeepNeuralNetworkModel(\n",
              "  (linear_1): Linear(in_features=784, out_features=200, bias=True)\n",
              "  (softmax_1): Softmax(dim=0)\n",
              "  (linear_2): Linear(in_features=200, out_features=200, bias=True)\n",
              "  (softmax_2): Softmax(dim=0)\n",
              "  (linear_3): Linear(in_features=200, out_features=200, bias=True)\n",
              "  (softmax_3): Softmax(dim=0)\n",
              "  (linear_4): Linear(in_features=200, out_features=200, bias=True)\n",
              "  (softmax_4): Softmax(dim=0)\n",
              "  (linear_5): Linear(in_features=200, out_features=200, bias=True)\n",
              "  (softmax_5): Softmax(dim=0)\n",
              "  (linear_6): Linear(in_features=200, out_features=200, bias=True)\n",
              "  (softmax_6): Softmax(dim=0)\n",
              "  (linear_out): Linear(in_features=200, out_features=10, bias=True)\n",
              ")"
            ]
          },
          "metadata": {},
          "execution_count": 11
        }
      ]
    },
    {
      "cell_type": "code",
      "metadata": {
        "id": "V1YagXSipEth"
      },
      "source": [
        "criterion = nn.CrossEntropyLoss()\n",
        "optimizer = torch.optim.Adam(model.parameters(), lr = learning_rate)"
      ],
      "execution_count": null,
      "outputs": []
    },
    {
      "cell_type": "code",
      "metadata": {
        "id": "6VJ_sYCMp2l9",
        "colab": {
          "base_uri": "https://localhost:8080/"
        },
        "outputId": "df1313ff-3485-42d2-ae30-3689c2f35103"
      },
      "source": [
        "iteration_loss = []\n",
        "iter = 0\n",
        "for epoch in range(num_epochs):\n",
        "    print('Epoch: ', epoch + 1)\n",
        "    for i, (images, labels) in enumerate(train_loader):\n",
        "\n",
        "        images = images.view(-1, 28*28).to(device)\n",
        "        labels = labels.to(device)\n",
        "\n",
        "        optimizer.zero_grad()\n",
        "\n",
        "        outputs = model(images) \n",
        "\n",
        "        loss = criterion(outputs, labels)\n",
        "\n",
        "        loss.backward()\n",
        "\n",
        "        optimizer.step()\n",
        "\n",
        "        iter += 1\n",
        "\n",
        "        if iter % 500 == 0:        \n",
        "            correct = 0\n",
        "            total = 0\n",
        "            for images, labels in test_loader:\n",
        "               \n",
        "                images = images.view(-1, 28*28).to(device)\n",
        "\n",
        "                outputs = model(images)\n",
        "\n",
        "                _, predicted = torch.max(outputs, 1)\n",
        "\n",
        "                total += labels.size(0)\n",
        "\n",
        "                if torch.cuda.is_available():\n",
        "                    correct += (predicted.cpu() == labels.cpu()).sum() \n",
        "                else:\n",
        "                    correct += (predicted == labels).sum()\n",
        "\n",
        "            accuracy = 100 * correct.item() / total\n",
        "\n",
        "            iteration_loss.append(loss.item())\n",
        "            print('Iteration: {}. Loss: {}. Accuracy: {}'.format(iter, loss.item(), accuracy))"
      ],
      "execution_count": null,
      "outputs": [
        {
          "output_type": "stream",
          "name": "stdout",
          "text": [
            "Epoch:  1\n",
            "Iteration: 500. Loss: 2.020113468170166. Accuracy: 18.5\n",
            "Iteration: 1000. Loss: 1.8269275426864624. Accuracy: 37.15833333333333\n",
            "Iteration: 1500. Loss: 1.4486260414123535. Accuracy: 44.80833333333333\n",
            "Iteration: 2000. Loss: 1.2257587909698486. Accuracy: 50.11666666666667\n",
            "Epoch:  2\n",
            "Iteration: 2500. Loss: 0.8166800737380981. Accuracy: 54.233333333333334\n",
            "Iteration: 3000. Loss: 1.122248888015747. Accuracy: 56.31666666666667\n",
            "Iteration: 3500. Loss: 1.6225627660751343. Accuracy: 61.625\n",
            "Iteration: 4000. Loss: 0.8825678825378418. Accuracy: 63.15833333333333\n",
            "Iteration: 4500. Loss: 0.7649689316749573. Accuracy: 62.108333333333334\n",
            "Epoch:  3\n",
            "Iteration: 5000. Loss: 1.0489497184753418. Accuracy: 66.44166666666666\n",
            "Iteration: 5500. Loss: 1.0851081609725952. Accuracy: 66.15833333333333\n",
            "Iteration: 6000. Loss: 0.8802288174629211. Accuracy: 67.26666666666667\n",
            "Iteration: 6500. Loss: 0.7389585375785828. Accuracy: 65.925\n",
            "Iteration: 7000. Loss: 1.0447906255722046. Accuracy: 67.09166666666667\n",
            "Epoch:  4\n",
            "Iteration: 7500. Loss: 1.5656284093856812. Accuracy: 67.53333333333333\n",
            "Iteration: 8000. Loss: 0.7129935622215271. Accuracy: 68.45\n",
            "Iteration: 8500. Loss: 0.8803591728210449. Accuracy: 68.73333333333333\n",
            "Iteration: 9000. Loss: 1.4615792036056519. Accuracy: 68.825\n",
            "Iteration: 9500. Loss: 0.8861069679260254. Accuracy: 68.95\n",
            "Epoch:  5\n",
            "Iteration: 10000. Loss: 1.2492966651916504. Accuracy: 69.30833333333334\n",
            "Iteration: 10500. Loss: 1.3675627708435059. Accuracy: 68.125\n",
            "Iteration: 11000. Loss: 1.2797815799713135. Accuracy: 70.16666666666667\n",
            "Iteration: 11500. Loss: 0.6150416731834412. Accuracy: 70.84166666666667\n",
            "Iteration: 12000. Loss: 1.4465078115463257. Accuracy: 69.61666666666666\n",
            "Epoch:  6\n",
            "Iteration: 12500. Loss: 1.4125735759735107. Accuracy: 70.78333333333333\n",
            "Iteration: 13000. Loss: 0.886880099773407. Accuracy: 70.0\n",
            "Iteration: 13500. Loss: 1.1197565793991089. Accuracy: 71.125\n",
            "Iteration: 14000. Loss: 1.3553961515426636. Accuracy: 70.61666666666666\n"
          ]
        }
      ]
    },
    {
      "cell_type": "code",
      "metadata": {
        "id": "IwU44FpRqO9t"
      },
      "source": [
        "torch.save(model.state_dict(), '/content/drive/MyDrive/SoftCom_Lab/Assignment_2/Models/model_base1.pkl')"
      ],
      "execution_count": null,
      "outputs": []
    },
    {
      "cell_type": "code",
      "metadata": {
        "id": "1AIS0RVwq8ul",
        "colab": {
          "base_uri": "https://localhost:8080/",
          "height": 316
        },
        "outputId": "82f0d3e2-bf07-484b-9239-89f71d2049b6"
      },
      "source": [
        "print (iteration_loss)\n",
        "plt.plot(iteration_loss)\n",
        "plt.ylabel('Loss')\n",
        "plt.xlabel('Iteration')\n",
        "plt.show()"
      ],
      "execution_count": null,
      "outputs": [
        {
          "output_type": "stream",
          "name": "stdout",
          "text": [
            "[2.020113468170166, 1.8269275426864624, 1.4486260414123535, 1.2257587909698486, 0.8166800737380981, 1.122248888015747, 1.6225627660751343, 0.8825678825378418, 0.7649689316749573, 1.0489497184753418, 1.0851081609725952, 0.8802288174629211, 0.7389585375785828, 1.0447906255722046, 1.5656284093856812, 0.7129935622215271, 0.8803591728210449, 1.4615792036056519, 0.8861069679260254, 1.2492966651916504, 1.3675627708435059, 1.2797815799713135, 0.6150416731834412, 1.4465078115463257, 1.4125735759735107, 0.886880099773407, 1.1197565793991089, 1.3553961515426636]\n"
          ]
        },
        {
          "output_type": "display_data",
          "data": {
            "image/png": "[encoded data removed]",
            "text/plain": [
              "<Figure size 432x288 with 1 Axes>"
            ]
          },
          "metadata": {
            "needs_background": "light"
          }
        }
      ]
    }
  ]
}