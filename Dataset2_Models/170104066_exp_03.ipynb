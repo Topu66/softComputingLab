{
  "nbformat": 4,
  "nbformat_minor": 0,
  "metadata": {
    "colab": {
      "name": "170104066_exp_01.ipynb",
      "provenance": [],
      "collapsed_sections": []
    },
    "kernelspec": {
      "name": "python3",
      "display_name": "Python 3"
    },
    "language_info": {
      "name": "python"
    },
    "accelerator": "GPU"
  },
  "cells": [
    {
      "cell_type": "code",
      "metadata": {
        "id": "4UMKTgRoeqfW"
      },
      "source": [
        "import numpy as np\n",
        "import pandas as pd\n",
        "import torch\n",
        "import torch.nn as nn\n",
        "import torch.nn.functional as F\n",
        "import torch.optim as optim\n",
        "from torch.utils.data import Dataset\n",
        "from torch.utils.data.sampler import SubsetRandomSampler\n",
        "import matplotlib\n",
        "import matplotlib.pyplot as plt\n",
        "from PIL import Image\n",
        "from torchvision import datasets, transforms, models\n",
        "from torch.autograd import Variable\n",
        "from zipfile import ZipFile\n",
        "import os\n",
        "from os import path\n",
        "import shutil"
      ],
      "execution_count": 4,
      "outputs": []
    },
    {
      "cell_type": "code",
      "metadata": {
        "colab": {
          "base_uri": "https://localhost:8080/"
        },
        "id": "fC445TxmnJ6g",
        "outputId": "82b6b802-1ae3-4146-8985-547568daeffe"
      },
      "source": [
        "from google.colab import drive\n",
        "drive.mount('/content/drive')"
      ],
      "execution_count": 5,
      "outputs": [
        {
          "output_type": "stream",
          "name": "stdout",
          "text": [
            "Mounted at /content/drive\n"
          ]
        }
      ]
    },
    {
      "cell_type": "code",
      "metadata": {
        "id": "RManlEUee0_s"
      },
      "source": [
        "url = '/content/drive/MyDrive/SoftCom_Lab/Assignment_2/'"
      ],
      "execution_count": 6,
      "outputs": []
    },
    {
      "cell_type": "code",
      "metadata": {
        "id": "HC1Mh0lIGogh"
      },
      "source": [
        "dataset_A = url + 'dataset_2_image.zip'\n",
        "with ZipFile(dataset_A, 'r') as zip:\n",
        "  zip.extractall()"
      ],
      "execution_count": 7,
      "outputs": []
    },
    {
      "cell_type": "code",
      "metadata": {
        "id": "xy-Cey0sf9Fz",
        "colab": {
          "base_uri": "https://localhost:8080/",
          "height": 204
        },
        "outputId": "4d9bc66b-0c9c-4f1d-9a71-d1a2f7ac8ad6"
      },
      "source": [
        "PATH = '/content/'\n",
        "train_data_labels = pd.read_csv('/content/csv/updatetrain.csv', usecols = ['filename', 'digit'])\n",
        "test_data_labels = pd.read_csv('/content/csv/updatetest.csv', usecols = ['filename', 'digit'])\n",
        "train_data_labels.head()\n"
      ],
      "execution_count": 8,
      "outputs": [
        {
          "output_type": "execute_result",
          "data": {
            "text/html": [
              "<div>\n",
              "<style scoped>\n",
              "    .dataframe tbody tr th:only-of-type {\n",
              "        vertical-align: middle;\n",
              "    }\n",
              "\n",
              "    .dataframe tbody tr th {\n",
              "        vertical-align: top;\n",
              "    }\n",
              "\n",
              "    .dataframe thead th {\n",
              "        text-align: right;\n",
              "    }\n",
              "</style>\n",
              "<table border=\"1\" class=\"dataframe\">\n",
              "  <thead>\n",
              "    <tr style=\"text-align: right;\">\n",
              "      <th></th>\n",
              "      <th>filename</th>\n",
              "      <th>digit</th>\n",
              "    </tr>\n",
              "  </thead>\n",
              "  <tbody>\n",
              "    <tr>\n",
              "      <th>0</th>\n",
              "      <td>0.jpg</td>\n",
              "      <td>9</td>\n",
              "    </tr>\n",
              "    <tr>\n",
              "      <th>1</th>\n",
              "      <td>1.jpg</td>\n",
              "      <td>0</td>\n",
              "    </tr>\n",
              "    <tr>\n",
              "      <th>2</th>\n",
              "      <td>2.jpg</td>\n",
              "      <td>0</td>\n",
              "    </tr>\n",
              "    <tr>\n",
              "      <th>3</th>\n",
              "      <td>3.jpg</td>\n",
              "      <td>3</td>\n",
              "    </tr>\n",
              "    <tr>\n",
              "      <th>4</th>\n",
              "      <td>4.jpg</td>\n",
              "      <td>0</td>\n",
              "    </tr>\n",
              "  </tbody>\n",
              "</table>\n",
              "</div>"
            ],
            "text/plain": [
              "  filename  digit\n",
              "0    0.jpg      9\n",
              "1    1.jpg      0\n",
              "2    2.jpg      0\n",
              "3    3.jpg      3\n",
              "4    4.jpg      0"
            ]
          },
          "metadata": {},
          "execution_count": 8
        }
      ]
    },
    {
      "cell_type": "code",
      "metadata": {
        "id": "zmE05jA4kTDU"
      },
      "source": [
        "class Dataset(Dataset):\n",
        "    def __init__(self, df, root, transform=None):\n",
        "        self.data = df\n",
        "        self.root = root\n",
        "        self.transform = transform\n",
        "        \n",
        "    def __len__(self):\n",
        "        return len(self.data)\n",
        "    \n",
        "    def __getitem__(self, index):\n",
        "        item = self.data.iloc[index]\n",
        "        \n",
        "        path = self.root + \"/\" + item[0]\n",
        "        image = Image.open(path).convert('L')\n",
        "        label = item[1]\n",
        "        \n",
        "        if self.transform is not None:\n",
        "            image = self.transform(image)\n",
        "            \n",
        "        return image, label"
      ],
      "execution_count": 9,
      "outputs": []
    },
    {
      "cell_type": "code",
      "metadata": {
        "id": "adaZ60Uik-eb",
        "colab": {
          "base_uri": "https://localhost:8080/"
        },
        "outputId": "a224ee04-a4c6-49e2-83fe-232e6c14199d"
      },
      "source": [
        "mean = [0.5,]\n",
        "std = [0.5, ]\n",
        "\n",
        "train_transform = transforms.Compose([\n",
        "    transforms.Resize(28),\n",
        "    transforms.ToTensor(),\n",
        "    transforms.Normalize(mean, std)\n",
        "])\n",
        "\n",
        "test_transform = transforms.Compose([\n",
        "        transforms.Resize(28),\n",
        "        transforms.ToTensor(),\n",
        "        transforms.Normalize(mean, std)\n",
        "])\n",
        "\n",
        "train_data  = Dataset(train_data_labels, '/content/train', train_transform)\n",
        "test_data = Dataset(test_data_labels, '/content/test_28', test_transform)\n",
        "\n",
        "print(\"Trainig Samples: \", len(train_data))"
      ],
      "execution_count": 10,
      "outputs": [
        {
          "output_type": "stream",
          "name": "stdout",
          "text": [
            "Trainig Samples:  60000\n"
          ]
        }
      ]
    },
    {
      "cell_type": "markdown",
      "metadata": {
        "id": "8htM9w2LmUVl"
      },
      "source": [
        "# **Base Parameters**"
      ]
    },
    {
      "cell_type": "code",
      "metadata": {
        "id": "IGG3l4vrmkI3",
        "colab": {
          "base_uri": "https://localhost:8080/"
        },
        "outputId": "1487b26b-1073-4922-d3c8-893c8156b6c6"
      },
      "source": [
        "batch_size = 100\n",
        "num_iters = 40000\n",
        "input_dim = 28*28\n",
        "num_hidden = 800\n",
        "output_dim = 10\n",
        "\n",
        "learning_rate = 0.05\n",
        "\n",
        "num_epochs = num_iters / (len(train_data) / batch_size)\n",
        "num_epochs = int(num_epochs)\n",
        "print(num_epochs)\n",
        "\n",
        "device = torch.device(\"cuda:0\" if torch.cuda.is_available() else \"cpu\")"
      ],
      "execution_count": 11,
      "outputs": [
        {
          "output_type": "stream",
          "name": "stdout",
          "text": [
            "66\n"
          ]
        }
      ]
    },
    {
      "cell_type": "code",
      "metadata": {
        "id": "lsSesapsltZF",
        "colab": {
          "base_uri": "https://localhost:8080/"
        },
        "outputId": "fb6ea806-e790-4f17-8833-b01c881a64ec"
      },
      "source": [
        "test_size = 0.2\n",
        "num_train = len(train_data)\n",
        "indices = list(range(num_train))\n",
        "np.random.shuffle(indices)\n",
        "split = int(np.floor(test_size * num_train))\n",
        "train_idx, test_idx = indices[split:], indices[:split]\n",
        "\n",
        "train_sampler = SubsetRandomSampler(train_idx)\n",
        "test_sampler = SubsetRandomSampler(test_idx)\n",
        "\n",
        "train_loader = torch.utils.data.DataLoader(\n",
        "    train_data, batch_size=batch_size,\n",
        "    sampler=train_sampler)\n",
        "\n",
        "test_loader = torch.utils.data.DataLoader(\n",
        "    train_data, batch_size=batch_size,\n",
        "    sampler=test_sampler)\n",
        "\n",
        "print(\"Train dataloader:{}\".format(len(train_loader)))\n",
        "print(\"Test dataloader:{}\".format(len(test_loader)))"
      ],
      "execution_count": 12,
      "outputs": [
        {
          "output_type": "stream",
          "name": "stdout",
          "text": [
            "Train dataloader:480\n",
            "Test dataloader:120\n"
          ]
        }
      ]
    },
    {
      "cell_type": "code",
      "metadata": {
        "id": "6jCcU8giniGS"
      },
      "source": [
        "class DeepNeuralNetworkModel(nn.Module):\n",
        "    def __init__(self, input_size, num_classes, num_hidden):\n",
        "        super().__init__()\n",
        "       \n",
        "        self.linear_1 = nn.Linear(input_size, num_hidden)\n",
        "        self.relu_1 = nn.ReLU()\n",
        " \n",
        "        self.linear_2 = nn.Linear(num_hidden, num_hidden)\n",
        "        self.relu_2 = nn.ReLU()\n",
        " \n",
        "        self.linear_3 = nn.Linear(num_hidden, num_hidden)\n",
        "        self.relu_3 = nn.ReLU()\n",
        " \n",
        "        self.linear_4 = nn.Linear(num_hidden, num_hidden)\n",
        "        self.relu_4 = nn.ReLU()\n",
        " \n",
        "        self.linear_5= nn.Linear(num_hidden, num_hidden)\n",
        "        self.relu_5= nn.ReLU()\n",
        " \n",
        "        self.linear_6 = nn.Linear(num_hidden, num_hidden)\n",
        "        self.relu_6 = nn.ReLU()\n",
        " \n",
        "        self.linear_out = nn.Linear(num_hidden, num_classes)\n",
        " \n",
        "    def forward(self, x):\n",
        "        out  = self.linear_1(x)\n",
        "        out = self.relu_1(out)\n",
        "        \n",
        "        out  = self.linear_2(out)\n",
        "        out = self.relu_2(out)\n",
        " \n",
        "        out  = self.linear_3(out)\n",
        "        out = self.relu_3(out)\n",
        " \n",
        "        out  = self.linear_4(out)\n",
        "        out = self.relu_4(out)\n",
        " \n",
        "        out  = self.linear_5(out)\n",
        "        out = self.relu_5(out)\n",
        " \n",
        "        out  = self.linear_6(out)\n",
        "        out = self.relu_6(out)\n",
        "        \n",
        "        probas  = self.linear_out(out)\n",
        "        return probas"
      ],
      "execution_count": 13,
      "outputs": []
    },
    {
      "cell_type": "code",
      "metadata": {
        "id": "Q23HotHio42L",
        "colab": {
          "base_uri": "https://localhost:8080/"
        },
        "outputId": "b289772e-7ec2-4543-90ed-55a84efa9977"
      },
      "source": [
        "model = DeepNeuralNetworkModel(input_size = input_dim, num_classes = output_dim, num_hidden = num_hidden)\n",
        "\n",
        "model.to(device)"
      ],
      "execution_count": 14,
      "outputs": [
        {
          "output_type": "execute_result",
          "data": {
            "text/plain": [
              "DeepNeuralNetworkModel(\n",
              "  (linear_1): Linear(in_features=784, out_features=800, bias=True)\n",
              "  (relu_1): ReLU()\n",
              "  (linear_2): Linear(in_features=800, out_features=800, bias=True)\n",
              "  (relu_2): ReLU()\n",
              "  (linear_3): Linear(in_features=800, out_features=800, bias=True)\n",
              "  (relu_3): ReLU()\n",
              "  (linear_4): Linear(in_features=800, out_features=800, bias=True)\n",
              "  (relu_4): ReLU()\n",
              "  (linear_5): Linear(in_features=800, out_features=800, bias=True)\n",
              "  (relu_5): ReLU()\n",
              "  (linear_6): Linear(in_features=800, out_features=800, bias=True)\n",
              "  (relu_6): ReLU()\n",
              "  (linear_out): Linear(in_features=800, out_features=10, bias=True)\n",
              ")"
            ]
          },
          "metadata": {},
          "execution_count": 14
        }
      ]
    },
    {
      "cell_type": "code",
      "metadata": {
        "id": "V1YagXSipEth"
      },
      "source": [
        "criterion = nn.CrossEntropyLoss()\n",
        "optimizer = torch.optim.SGD(model.parameters(), lr = learning_rate)"
      ],
      "execution_count": 15,
      "outputs": []
    },
    {
      "cell_type": "code",
      "metadata": {
        "id": "6VJ_sYCMp2l9",
        "colab": {
          "base_uri": "https://localhost:8080/"
        },
        "outputId": "5f6891de-2367-47d3-abae-17e33dda57ad"
      },
      "source": [
        "iteration_loss = []\n",
        "iter = 0\n",
        "for epoch in range(num_epochs):\n",
        "    print('Epoch: ', epoch + 1)\n",
        "    for i, (images, labels) in enumerate(train_loader):\n",
        "\n",
        "        images = images.view(-1, 28*28).to(device)\n",
        "        labels = labels.to(device)\n",
        "\n",
        "        optimizer.zero_grad()\n",
        "\n",
        "        outputs = model(images) \n",
        "\n",
        "        loss = criterion(outputs, labels)\n",
        "\n",
        "        loss.backward()\n",
        "\n",
        "        optimizer.step()\n",
        "\n",
        "        iter += 1\n",
        "\n",
        "        if iter % 500 == 0:        \n",
        "            correct = 0\n",
        "            total = 0\n",
        "            for images, labels in test_loader:\n",
        "               \n",
        "                images = images.view(-1, 28*28).to(device)\n",
        "\n",
        "                outputs = model(images)\n",
        "\n",
        "                _, predicted = torch.max(outputs, 1)\n",
        "\n",
        "                total += labels.size(0)\n",
        "\n",
        "                if torch.cuda.is_available():\n",
        "                    correct += (predicted.cpu() == labels.cpu()).sum() \n",
        "                else:\n",
        "                    correct += (predicted == labels).sum()\n",
        "\n",
        "            accuracy = 100 * correct.item() / total\n",
        "\n",
        "            iteration_loss.append(loss.item())\n",
        "            print('Iteration: {}. Loss: {}. Accuracy: {}'.format(iter, loss.item(), accuracy))"
      ],
      "execution_count": 16,
      "outputs": [
        {
          "output_type": "stream",
          "name": "stdout",
          "text": [
            "Epoch:  1\n",
            "Epoch:  2\n",
            "Iteration: 500. Loss: 1.0022555589675903. Accuracy: 63.25\n",
            "Epoch:  3\n",
            "Iteration: 1000. Loss: 0.6914819478988647. Accuracy: 76.10833333333333\n",
            "Epoch:  4\n",
            "Iteration: 1500. Loss: 0.4341988265514374. Accuracy: 83.525\n",
            "Epoch:  5\n",
            "Iteration: 2000. Loss: 0.37366604804992676. Accuracy: 84.43333333333334\n",
            "Epoch:  6\n",
            "Iteration: 2500. Loss: 0.3063802421092987. Accuracy: 85.43333333333334\n",
            "Epoch:  7\n",
            "Iteration: 3000. Loss: 0.3643293082714081. Accuracy: 86.95833333333333\n",
            "Epoch:  8\n",
            "Iteration: 3500. Loss: 0.3527523875236511. Accuracy: 87.15\n",
            "Epoch:  9\n",
            "Iteration: 4000. Loss: 0.3079942464828491. Accuracy: 88.0\n",
            "Epoch:  10\n",
            "Iteration: 4500. Loss: 0.3624494969844818. Accuracy: 87.76666666666667\n",
            "Epoch:  11\n",
            "Iteration: 5000. Loss: 0.2578515112400055. Accuracy: 88.425\n",
            "Epoch:  12\n",
            "Iteration: 5500. Loss: 0.42319294810295105. Accuracy: 86.175\n",
            "Epoch:  13\n",
            "Iteration: 6000. Loss: 0.3948904275894165. Accuracy: 88.35\n",
            "Epoch:  14\n",
            "Iteration: 6500. Loss: 0.19323574006557465. Accuracy: 87.46666666666667\n",
            "Epoch:  15\n",
            "Iteration: 7000. Loss: 0.2710966169834137. Accuracy: 88.36666666666666\n",
            "Epoch:  16\n",
            "Iteration: 7500. Loss: 0.21038320660591125. Accuracy: 86.70833333333333\n",
            "Epoch:  17\n",
            "Iteration: 8000. Loss: 0.0650733932852745. Accuracy: 89.08333333333333\n",
            "Epoch:  18\n",
            "Iteration: 8500. Loss: 0.21758192777633667. Accuracy: 89.40833333333333\n",
            "Epoch:  19\n",
            "Iteration: 9000. Loss: 0.2692345380783081. Accuracy: 88.91666666666667\n",
            "Epoch:  20\n",
            "Iteration: 9500. Loss: 0.19961903989315033. Accuracy: 87.60833333333333\n",
            "Epoch:  21\n",
            "Iteration: 10000. Loss: 0.11895038932561874. Accuracy: 89.30833333333334\n",
            "Epoch:  22\n",
            "Iteration: 10500. Loss: 0.17527619004249573. Accuracy: 88.59166666666667\n",
            "Epoch:  23\n",
            "Iteration: 11000. Loss: 0.1988593339920044. Accuracy: 89.18333333333334\n",
            "Epoch:  24\n",
            "Iteration: 11500. Loss: 0.05682654306292534. Accuracy: 89.29166666666667\n",
            "Epoch:  25\n",
            "Iteration: 12000. Loss: 0.17569857835769653. Accuracy: 89.65833333333333\n",
            "Epoch:  26\n",
            "Epoch:  27\n",
            "Iteration: 12500. Loss: 0.1344415545463562. Accuracy: 89.70833333333333\n",
            "Epoch:  28\n",
            "Iteration: 13000. Loss: 0.14267441630363464. Accuracy: 89.675\n",
            "Epoch:  29\n",
            "Iteration: 13500. Loss: 0.14604552090168. Accuracy: 89.75\n",
            "Epoch:  30\n",
            "Iteration: 14000. Loss: 0.19365108013153076. Accuracy: 86.85833333333333\n",
            "Epoch:  31\n",
            "Iteration: 14500. Loss: 0.1705481857061386. Accuracy: 89.35\n",
            "Epoch:  32\n",
            "Iteration: 15000. Loss: 0.14242221415042877. Accuracy: 89.5\n",
            "Epoch:  33\n",
            "Iteration: 15500. Loss: 0.1457395702600479. Accuracy: 89.275\n",
            "Epoch:  34\n",
            "Iteration: 16000. Loss: 0.0745985209941864. Accuracy: 89.61666666666666\n",
            "Epoch:  35\n",
            "Iteration: 16500. Loss: 0.06227428838610649. Accuracy: 89.5\n",
            "Epoch:  36\n",
            "Iteration: 17000. Loss: 0.07094153761863708. Accuracy: 89.24166666666666\n",
            "Epoch:  37\n",
            "Iteration: 17500. Loss: 0.03332262113690376. Accuracy: 89.88333333333334\n",
            "Epoch:  38\n",
            "Iteration: 18000. Loss: 0.051469359546899796. Accuracy: 89.16666666666667\n",
            "Epoch:  39\n",
            "Iteration: 18500. Loss: 0.12167654931545258. Accuracy: 89.04166666666667\n",
            "Epoch:  40\n",
            "Iteration: 19000. Loss: 0.17042453587055206. Accuracy: 89.825\n",
            "Epoch:  41\n",
            "Iteration: 19500. Loss: 0.13082516193389893. Accuracy: 89.59166666666667\n",
            "Epoch:  42\n",
            "Iteration: 20000. Loss: 0.0722416341304779. Accuracy: 89.38333333333334\n",
            "Epoch:  43\n",
            "Iteration: 20500. Loss: 0.10278487205505371. Accuracy: 89.44166666666666\n",
            "Epoch:  44\n",
            "Iteration: 21000. Loss: 0.0751722976565361. Accuracy: 89.01666666666667\n",
            "Epoch:  45\n",
            "Iteration: 21500. Loss: 0.06771272420883179. Accuracy: 89.725\n",
            "Epoch:  46\n",
            "Iteration: 22000. Loss: 0.047370146960020065. Accuracy: 90.35833333333333\n",
            "Epoch:  47\n",
            "Iteration: 22500. Loss: 0.05702926591038704. Accuracy: 89.33333333333333\n",
            "Epoch:  48\n",
            "Iteration: 23000. Loss: 0.052466344088315964. Accuracy: 89.45833333333333\n",
            "Epoch:  49\n",
            "Iteration: 23500. Loss: 0.014866112731397152. Accuracy: 89.79166666666667\n",
            "Epoch:  50\n",
            "Iteration: 24000. Loss: 0.11799753457307816. Accuracy: 87.55833333333334\n",
            "Epoch:  51\n",
            "Epoch:  52\n",
            "Iteration: 24500. Loss: 0.04078921675682068. Accuracy: 90.05833333333334\n",
            "Epoch:  53\n",
            "Iteration: 25000. Loss: 0.04113166779279709. Accuracy: 89.39166666666667\n",
            "Epoch:  54\n",
            "Iteration: 25500. Loss: 0.07189170271158218. Accuracy: 90.225\n",
            "Epoch:  55\n",
            "Iteration: 26000. Loss: 0.026124853640794754. Accuracy: 89.94166666666666\n",
            "Epoch:  56\n",
            "Iteration: 26500. Loss: 0.0018222929211333394. Accuracy: 90.01666666666667\n",
            "Epoch:  57\n",
            "Iteration: 27000. Loss: 0.04513855278491974. Accuracy: 90.18333333333334\n",
            "Epoch:  58\n",
            "Iteration: 27500. Loss: 0.005541677586734295. Accuracy: 90.30833333333334\n",
            "Epoch:  59\n",
            "Iteration: 28000. Loss: 0.008035373874008656. Accuracy: 90.24166666666666\n",
            "Epoch:  60\n",
            "Iteration: 28500. Loss: 0.04410148039460182. Accuracy: 89.775\n",
            "Epoch:  61\n",
            "Iteration: 29000. Loss: 0.011686268262565136. Accuracy: 90.15\n",
            "Epoch:  62\n",
            "Iteration: 29500. Loss: 0.021665005013346672. Accuracy: 89.5\n",
            "Epoch:  63\n",
            "Iteration: 30000. Loss: 0.048235803842544556. Accuracy: 89.94166666666666\n",
            "Epoch:  64\n",
            "Iteration: 30500. Loss: 0.01059556845575571. Accuracy: 89.925\n",
            "Epoch:  65\n",
            "Iteration: 31000. Loss: 0.00917546171694994. Accuracy: 90.10833333333333\n",
            "Epoch:  66\n",
            "Iteration: 31500. Loss: 0.04835983365774155. Accuracy: 89.63333333333334\n"
          ]
        }
      ]
    },
    {
      "cell_type": "code",
      "metadata": {
        "id": "IwU44FpRqO9t"
      },
      "source": [
        "torch.save(model.state_dict(), '/content/drive/MyDrive/SoftCom_Lab/Assignment_2/Dataset2_Models/exp3/model_base3.pkl')"
      ],
      "execution_count": 18,
      "outputs": []
    },
    {
      "cell_type": "code",
      "metadata": {
        "id": "1AIS0RVwq8ul",
        "colab": {
          "base_uri": "https://localhost:8080/",
          "height": 316
        },
        "outputId": "328abe65-98f3-44e3-d4da-765071fd1142"
      },
      "source": [
        "print (iteration_loss)\n",
        "plt.plot(iteration_loss)\n",
        "plt.ylabel('Loss')\n",
        "plt.xlabel('Iteration')\n",
        "plt.show()"
      ],
      "execution_count": 19,
      "outputs": [
        {
          "output_type": "stream",
          "name": "stdout",
          "text": [
            "[1.0022555589675903, 0.6914819478988647, 0.4341988265514374, 0.37366604804992676, 0.3063802421092987, 0.3643293082714081, 0.3527523875236511, 0.3079942464828491, 0.3624494969844818, 0.2578515112400055, 0.42319294810295105, 0.3948904275894165, 0.19323574006557465, 0.2710966169834137, 0.21038320660591125, 0.0650733932852745, 0.21758192777633667, 0.2692345380783081, 0.19961903989315033, 0.11895038932561874, 0.17527619004249573, 0.1988593339920044, 0.05682654306292534, 0.17569857835769653, 0.1344415545463562, 0.14267441630363464, 0.14604552090168, 0.19365108013153076, 0.1705481857061386, 0.14242221415042877, 0.1457395702600479, 0.0745985209941864, 0.06227428838610649, 0.07094153761863708, 0.03332262113690376, 0.051469359546899796, 0.12167654931545258, 0.17042453587055206, 0.13082516193389893, 0.0722416341304779, 0.10278487205505371, 0.0751722976565361, 0.06771272420883179, 0.047370146960020065, 0.05702926591038704, 0.052466344088315964, 0.014866112731397152, 0.11799753457307816, 0.04078921675682068, 0.04113166779279709, 0.07189170271158218, 0.026124853640794754, 0.0018222929211333394, 0.04513855278491974, 0.005541677586734295, 0.008035373874008656, 0.04410148039460182, 0.011686268262565136, 0.021665005013346672, 0.048235803842544556, 0.01059556845575571, 0.00917546171694994, 0.04835983365774155]\n"
          ]
        },
        {
          "output_type": "display_data",
          "data": {
            "image/png": "[encoded data removed]",
            "text/plain": [
              "<Figure size 432x288 with 1 Axes>"
            ]
          },
          "metadata": {
            "needs_background": "light"
          }
        }
      ]
    }
  ]
}